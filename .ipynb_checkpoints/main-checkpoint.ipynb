{
 "cells": [
  {
   "cell_type": "code",
   "execution_count": 1,
   "id": "e9325c7a-6c3c-4c50-9036-4a63e29a61a4",
   "metadata": {},
   "outputs": [
    {
     "name": "stdout",
     "output_type": "stream",
     "text": [
      "Requirement already satisfied: dlib in /home/javingles/.local/lib/python3.10/site-packages (19.24.0)\n"
     ]
    }
   ],
   "source": [
    "# !pip install cv2\n",
    "!pip install dlib\n",
    "import os\n",
    "import pickle\n",
    "import numpy as np\n",
    "import cv2\n",
    "import face_recognition\n",
    "import cvzone\n",
    "import firebase_admin\n",
    "from firebase_admin import credentials\n",
    "from firebase_admin import db\n",
    "from firebase_admin import storage\n",
    "import numpy as np\n",
    "from datetime import datetime"
   ]
  },
  {
   "cell_type": "code",
   "execution_count": 2,
   "id": "4c89da5f-aa82-4528-98df-d0d8942b1a1d",
   "metadata": {},
   "outputs": [
    {
     "name": "stderr",
     "output_type": "stream",
     "text": [
      "[ WARN:0@1.207] global cap_v4l.cpp:982 open VIDEOIO(V4L2:/dev/video1): can't open camera by index\n",
      "[ERROR:0@1.207] global obsensor_uvc_stream_channel.cpp:156 getStreamChannelGroup Camera index out of range\n"
     ]
    },
    {
     "ename": "TypeError",
     "evalue": "int() argument must be a string, a bytes-like object or a real number, not 'NoneType'",
     "output_type": "error",
     "traceback": [
      "\u001b[0;31m---------------------------------------------------------------------------\u001b[0m",
      "\u001b[0;31mTypeError\u001b[0m                                 Traceback (most recent call last)",
      "Input \u001b[0;32mIn [2]\u001b[0m, in \u001b[0;36m<cell line: 25>\u001b[0;34m()\u001b[0m\n\u001b[1;32m     26\u001b[0m   sucess, img \u001b[38;5;241m=\u001b[39m cap\u001b[38;5;241m.\u001b[39mread()\n\u001b[1;32m     28\u001b[0m \u001b[38;5;66;03m#SUPERPONEMOS EL FONDO CON SUS MEDIDAS \u001b[39;00m\n\u001b[1;32m     29\u001b[0m \u001b[38;5;66;03m#----------------------------------------------------------\u001b[39;00m\n\u001b[0;32m---> 30\u001b[0m   imgBackground[\u001b[38;5;241m162\u001b[39m:\u001b[38;5;241m162\u001b[39m \u001b[38;5;241m+\u001b[39m \u001b[38;5;241m480\u001b[39m, \u001b[38;5;241m55\u001b[39m:\u001b[38;5;241m55\u001b[39m \u001b[38;5;241m+\u001b[39m \u001b[38;5;241m640\u001b[39m] \u001b[38;5;241m=\u001b[39m img \n\u001b[1;32m     31\u001b[0m \u001b[38;5;66;03m#----------------------------------------------------------\u001b[39;00m\n\u001b[1;32m     32\u001b[0m \u001b[38;5;66;03m#Y AÑADIMOS TAMBIÉN LAS OTRAS IMÁGENES QUE INSERTAREMOS PERO CON OTRAS MEDIDAS  \u001b[39;00m\n\u001b[1;32m     33\u001b[0m   imgBackground[\u001b[38;5;241m44\u001b[39m:\u001b[38;5;241m44\u001b[39m \u001b[38;5;241m+\u001b[39m \u001b[38;5;241m633\u001b[39m, \u001b[38;5;241m808\u001b[39m:\u001b[38;5;241m808\u001b[39m \u001b[38;5;241m+\u001b[39m \u001b[38;5;241m414\u001b[39m] \u001b[38;5;241m=\u001b[39m imgModeList[\u001b[38;5;241m0\u001b[39m]\n",
      "\u001b[0;31mTypeError\u001b[0m: int() argument must be a string, a bytes-like object or a real number, not 'NoneType'"
     ]
    }
   ],
   "source": [
    "#ACTIVACIÓN DE LA CÁMARA PARA LAS CAPTURAS Y SU RESOLUCIÓN, CON 0 LA ABRIMOS, CON 1 LA CERRAMOS\n",
    "#----------------------------------------------------------\n",
    "#----------------------------------------------------------\n",
    "cap = cv2.VideoCapture(1)\n",
    "cap.set(3, 640)\n",
    "cap.set(4, 480)\n",
    "\n",
    "#DECLARAMOS NUESTRA IMAGEN DE FONDO\n",
    "#----------------------------------------------------------\n",
    "imgBackground = cv2.imread('Resources/background.png')\n",
    "\n",
    "\n",
    "#IMPORTANDO EL MODO DE IMÁGENES EN UNA LISTA\n",
    "#----------------------------------------------------------\n",
    "folderModePath = 'Resources/Modes'\n",
    "modePathList = os.listdir(folderModePath)\n",
    "imgModeList = []\n",
    "for path in modePathList:\n",
    "    imgModeList.append(cv2.imread(os.path.join(folderModePath,path)))\n",
    "\n",
    "#print(len(imgModelList))\n",
    "\n",
    "\n",
    "    \n",
    "while True:\n",
    "  sucess, img = cap.read()\n",
    "\n",
    "#SUPERPONEMOS EL FONDO CON SUS MEDIDAS \n",
    "#----------------------------------------------------------\n",
    "  imgBackground[162:162 + 480, 55:55 + 640] = img \n",
    "#----------------------------------------------------------\n",
    "#Y AÑADIMOS TAMBIÉN LAS OTRAS IMÁGENES QUE INSERTAREMOS PERO CON OTRAS MEDIDAS  \n",
    "  imgBackground[44:44 + 633, 808:808 + 414] = imgModeList[0]\n",
    "\n",
    "#SALE LA CÁMARA Y NUESTRO PHOTOCALL DE FONDO\n",
    "#----------------------------------------------------------\n",
    "  cv2.imshow(\"Webcam\", img)\n",
    "  cv2.imshow(\"Face Attendance\", imgBackground)\n",
    "  cv2.waitKey(1)"
   ]
  },
  {
   "cell_type": "code",
   "execution_count": null,
   "id": "ad09447d-2b4c-4914-9318-c90026771bf6",
   "metadata": {},
   "outputs": [],
   "source": []
  },
  {
   "cell_type": "code",
   "execution_count": null,
   "id": "be40a18c-8ee1-4540-851d-6474641c5fb2",
   "metadata": {},
   "outputs": [],
   "source": []
  }
 ],
 "metadata": {
  "kernelspec": {
   "display_name": "Python 3 (ipykernel)",
   "language": "python",
   "name": "python3"
  },
  "language_info": {
   "codemirror_mode": {
    "name": "ipython",
    "version": 3
   },
   "file_extension": ".py",
   "mimetype": "text/x-python",
   "name": "python",
   "nbconvert_exporter": "python",
   "pygments_lexer": "ipython3",
   "version": "3.10.6"
  }
 },
 "nbformat": 4,
 "nbformat_minor": 5
}
