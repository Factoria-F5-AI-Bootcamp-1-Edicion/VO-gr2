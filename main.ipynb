{
 "cells": [
  {
   "cell_type": "code",
   "execution_count": 1,
   "id": "b2ad49e5-21e7-4663-a81f-81c5fc564f5a",
   "metadata": {},
   "outputs": [
    {
     "name": "stdout",
     "output_type": "stream",
     "text": [
      "Defaulting to user installation because normal site-packages is not writeable\n",
      "Requirement already satisfied: cv2-plt-imshow in /home/javingles/.local/lib/python3.10/site-packages (0.0.1)\n",
      "Requirement already satisfied: matplotlib>=3.2.2 in /home/javingles/.local/lib/python3.10/site-packages (from cv2-plt-imshow) (3.5.2)\n",
      "Requirement already satisfied: opencv-python>=4.2.0.34 in /home/javingles/.local/lib/python3.10/site-packages (from cv2-plt-imshow) (4.7.0.68)\n",
      "Requirement already satisfied: fonttools>=4.22.0 in /home/javingles/.local/lib/python3.10/site-packages (from matplotlib>=3.2.2->cv2-plt-imshow) (4.34.4)\n",
      "Requirement already satisfied: pillow>=6.2.0 in /usr/lib/python3/dist-packages (from matplotlib>=3.2.2->cv2-plt-imshow) (9.0.1)\n",
      "Requirement already satisfied: packaging>=20.0 in /home/javingles/.local/lib/python3.10/site-packages (from matplotlib>=3.2.2->cv2-plt-imshow) (21.3)\n",
      "Requirement already satisfied: python-dateutil>=2.7 in /home/javingles/.local/lib/python3.10/site-packages (from matplotlib>=3.2.2->cv2-plt-imshow) (2.8.2)\n",
      "Requirement already satisfied: pyparsing>=2.2.1 in /usr/lib/python3/dist-packages (from matplotlib>=3.2.2->cv2-plt-imshow) (2.4.7)\n",
      "Requirement already satisfied: numpy>=1.17 in /home/javingles/.local/lib/python3.10/site-packages (from matplotlib>=3.2.2->cv2-plt-imshow) (1.23.4)\n",
      "Requirement already satisfied: cycler>=0.10 in /home/javingles/.local/lib/python3.10/site-packages (from matplotlib>=3.2.2->cv2-plt-imshow) (0.11.0)\n",
      "Requirement already satisfied: kiwisolver>=1.0.1 in /home/javingles/.local/lib/python3.10/site-packages (from matplotlib>=3.2.2->cv2-plt-imshow) (1.4.4)\n",
      "Requirement already satisfied: six>=1.5 in /usr/lib/python3/dist-packages (from python-dateutil>=2.7->matplotlib>=3.2.2->cv2-plt-imshow) (1.16.0)\n",
      "Note: you may need to restart the kernel to use updated packages.\n"
     ]
    }
   ],
   "source": [
    "pip install cv2-plt-imshow"
   ]
  },
  {
   "cell_type": "code",
   "execution_count": 2,
   "id": "176ff1c7-8752-4b6b-b692-34f828167cfe",
   "metadata": {},
   "outputs": [
    {
     "name": "stdout",
     "output_type": "stream",
     "text": [
      "Defaulting to user installation because normal site-packages is not writeable\n",
      "Requirement already satisfied: firebase_admin in /home/javingles/.local/lib/python3.10/site-packages (6.0.1)\n",
      "Requirement already satisfied: pyjwt[crypto]>=2.5.0 in /home/javingles/.local/lib/python3.10/site-packages (from firebase_admin) (2.6.0)\n",
      "Requirement already satisfied: google-api-python-client>=1.7.8 in /home/javingles/.local/lib/python3.10/site-packages (from firebase_admin) (2.74.0)\n",
      "Requirement already satisfied: cachecontrol>=0.12.6 in /home/javingles/.local/lib/python3.10/site-packages (from firebase_admin) (0.12.11)\n",
      "Requirement already satisfied: google-cloud-firestore>=2.1.0 in /home/javingles/.local/lib/python3.10/site-packages (from firebase_admin) (2.9.1)\n",
      "Requirement already satisfied: google-api-core[grpc]<3.0.0dev,>=1.22.1 in /home/javingles/.local/lib/python3.10/site-packages (from firebase_admin) (2.11.0)\n",
      "Requirement already satisfied: google-cloud-storage>=1.37.1 in /home/javingles/.local/lib/python3.10/site-packages (from firebase_admin) (2.7.0)\n",
      "Requirement already satisfied: msgpack>=0.5.2 in /home/javingles/.local/lib/python3.10/site-packages (from cachecontrol>=0.12.6->firebase_admin) (1.0.4)\n",
      "Requirement already satisfied: requests in /usr/lib/python3/dist-packages (from cachecontrol>=0.12.6->firebase_admin) (2.25.1)\n",
      "Requirement already satisfied: protobuf!=3.20.0,!=3.20.1,!=4.21.0,!=4.21.1,!=4.21.2,!=4.21.3,!=4.21.4,!=4.21.5,<5.0.0dev,>=3.19.5 in /home/javingles/.local/lib/python3.10/site-packages (from google-api-core[grpc]<3.0.0dev,>=1.22.1->firebase_admin) (4.21.12)\n",
      "Requirement already satisfied: google-auth<3.0dev,>=2.14.1 in /home/javingles/.local/lib/python3.10/site-packages (from google-api-core[grpc]<3.0.0dev,>=1.22.1->firebase_admin) (2.16.0)\n",
      "Requirement already satisfied: googleapis-common-protos<2.0dev,>=1.56.2 in /home/javingles/.local/lib/python3.10/site-packages (from google-api-core[grpc]<3.0.0dev,>=1.22.1->firebase_admin) (1.58.0)\n",
      "Requirement already satisfied: grpcio<2.0dev,>=1.33.2 in /home/javingles/.local/lib/python3.10/site-packages (from google-api-core[grpc]<3.0.0dev,>=1.22.1->firebase_admin) (1.51.1)\n",
      "Requirement already satisfied: grpcio-status<2.0dev,>=1.33.2 in /home/javingles/.local/lib/python3.10/site-packages (from google-api-core[grpc]<3.0.0dev,>=1.22.1->firebase_admin) (1.51.1)\n",
      "Requirement already satisfied: httplib2<1dev,>=0.15.0 in /usr/lib/python3/dist-packages (from google-api-python-client>=1.7.8->firebase_admin) (0.20.2)\n",
      "Requirement already satisfied: google-auth-httplib2>=0.1.0 in /home/javingles/.local/lib/python3.10/site-packages (from google-api-python-client>=1.7.8->firebase_admin) (0.1.0)\n",
      "Requirement already satisfied: uritemplate<5,>=3.0.1 in /home/javingles/.local/lib/python3.10/site-packages (from google-api-python-client>=1.7.8->firebase_admin) (4.1.1)\n",
      "Requirement already satisfied: google-cloud-core<3.0.0dev,>=1.4.1 in /home/javingles/.local/lib/python3.10/site-packages (from google-cloud-firestore>=2.1.0->firebase_admin) (2.3.2)\n",
      "Requirement already satisfied: proto-plus<2.0.0dev,>=1.22.0 in /home/javingles/.local/lib/python3.10/site-packages (from google-cloud-firestore>=2.1.0->firebase_admin) (1.22.2)\n",
      "Requirement already satisfied: google-resumable-media>=2.3.2 in /home/javingles/.local/lib/python3.10/site-packages (from google-cloud-storage>=1.37.1->firebase_admin) (2.4.1)\n",
      "Requirement already satisfied: cryptography>=3.4.0 in /usr/lib/python3/dist-packages (from pyjwt[crypto]>=2.5.0->firebase_admin) (3.4.8)\n",
      "Requirement already satisfied: cachetools<6.0,>=2.0.0 in /home/javingles/.local/lib/python3.10/site-packages (from google-auth<3.0dev,>=2.14.1->google-api-core[grpc]<3.0.0dev,>=1.22.1->firebase_admin) (5.3.0)\n",
      "Requirement already satisfied: pyasn1-modules>=0.2.1 in /home/javingles/.local/lib/python3.10/site-packages (from google-auth<3.0dev,>=2.14.1->google-api-core[grpc]<3.0.0dev,>=1.22.1->firebase_admin) (0.2.8)\n",
      "Requirement already satisfied: six>=1.9.0 in /usr/lib/python3/dist-packages (from google-auth<3.0dev,>=2.14.1->google-api-core[grpc]<3.0.0dev,>=1.22.1->firebase_admin) (1.16.0)\n",
      "Requirement already satisfied: rsa<5,>=3.1.4 in /home/javingles/.local/lib/python3.10/site-packages (from google-auth<3.0dev,>=2.14.1->google-api-core[grpc]<3.0.0dev,>=1.22.1->firebase_admin) (4.9)\n",
      "Requirement already satisfied: google-crc32c<2.0dev,>=1.0 in /home/javingles/.local/lib/python3.10/site-packages (from google-resumable-media>=2.3.2->google-cloud-storage>=1.37.1->firebase_admin) (1.5.0)\n",
      "Requirement already satisfied: pyparsing!=3.0.0,!=3.0.1,!=3.0.2,!=3.0.3,<4,>=2.4.2 in /usr/lib/python3/dist-packages (from httplib2<1dev,>=0.15.0->google-api-python-client>=1.7.8->firebase_admin) (2.4.7)\n",
      "Requirement already satisfied: pyasn1<0.5.0,>=0.4.6 in /home/javingles/.local/lib/python3.10/site-packages (from pyasn1-modules>=0.2.1->google-auth<3.0dev,>=2.14.1->google-api-core[grpc]<3.0.0dev,>=1.22.1->firebase_admin) (0.4.8)\n",
      "Note: you may need to restart the kernel to use updated packages.\n"
     ]
    }
   ],
   "source": [
    "pip install firebase_admin"
   ]
  },
  {
   "cell_type": "code",
   "execution_count": 3,
   "id": "b00cb094-e9f0-44dd-af75-87fa5dade74b",
   "metadata": {},
   "outputs": [
    {
     "name": "stdout",
     "output_type": "stream",
     "text": [
      "Defaulting to user installation because normal site-packages is not writeable\n",
      "Requirement already satisfied: cvzone in /home/javingles/.local/lib/python3.10/site-packages (1.5.6)\n",
      "Requirement already satisfied: opencv-python in /home/javingles/.local/lib/python3.10/site-packages (from cvzone) (4.7.0.68)\n",
      "Requirement already satisfied: numpy in /home/javingles/.local/lib/python3.10/site-packages (from cvzone) (1.23.4)\n",
      "Note: you may need to restart the kernel to use updated packages.\n"
     ]
    }
   ],
   "source": [
    "pip install cvzone"
   ]
  },
  {
   "cell_type": "code",
   "execution_count": 4,
   "id": "7d98cd79-a9a0-4a0f-9803-871e8e542226",
   "metadata": {},
   "outputs": [
    {
     "name": "stdout",
     "output_type": "stream",
     "text": [
      "Defaulting to user installation because normal site-packages is not writeable\n",
      "Requirement already satisfied: face_recognition in /home/javingles/.local/lib/python3.10/site-packages (1.3.0)\n",
      "Requirement already satisfied: Click>=6.0 in /home/javingles/.local/lib/python3.10/site-packages (from face_recognition) (8.1.3)\n",
      "Requirement already satisfied: Pillow in /usr/lib/python3/dist-packages (from face_recognition) (9.0.1)\n",
      "Requirement already satisfied: face-recognition-models>=0.3.0 in /home/javingles/.local/lib/python3.10/site-packages (from face_recognition) (0.3.0)\n",
      "Requirement already satisfied: dlib>=19.7 in /home/javingles/.local/lib/python3.10/site-packages (from face_recognition) (19.24.0)\n",
      "Requirement already satisfied: numpy in /home/javingles/.local/lib/python3.10/site-packages (from face_recognition) (1.23.4)\n",
      "Note: you may need to restart the kernel to use updated packages.\n"
     ]
    }
   ],
   "source": [
    "pip install face_recognition"
   ]
  },
  {
   "cell_type": "code",
   "execution_count": 5,
   "id": "e9325c7a-6c3c-4c50-9036-4a63e29a61a4",
   "metadata": {},
   "outputs": [
    {
     "name": "stdout",
     "output_type": "stream",
     "text": [
      "Requirement already satisfied: dlib in /home/javingles/.local/lib/python3.10/site-packages (19.24.0)\n"
     ]
    }
   ],
   "source": [
    "# !pip install cv2\n",
    "!pip install dlib\n",
    "import os\n",
    "import pickle\n",
    "import numpy as np\n",
    "import cv2\n",
    "import face_recognition\n",
    "import cvzone\n",
    "import firebase_admin\n",
    "from firebase_admin import credentials\n",
    "from firebase_admin import db\n",
    "from firebase_admin import storage\n",
    "import numpy as np\n",
    "from datetime import datetime"
   ]
  },
  {
   "cell_type": "code",
   "execution_count": null,
   "id": "4c89da5f-aa82-4528-98df-d0d8942b1a1d",
   "metadata": {},
   "outputs": [],
   "source": [
    "cap = cv2.VideoCapture(0)\n",
    "cap.set(3, 640)\n",
    "cap.set(4, 480)\n",
    "\n",
    "imgBackground = cv2.imread('Resources/background.png')\n",
    "\n",
    "while True:\n",
    "  sucess, img = cap.read()\n",
    "\n",
    "  cv2.imshow(\"Webcam\", img)\n",
    "  cv2.imshow(\"Face Attendance\", imgBackground)\n",
    "  cv2.waitKey(1)"
   ]
  },
  {
   "cell_type": "code",
   "execution_count": null,
   "id": "ad09447d-2b4c-4914-9318-c90026771bf6",
   "metadata": {},
   "outputs": [],
   "source": []
  },
  {
   "cell_type": "code",
   "execution_count": null,
   "id": "be40a18c-8ee1-4540-851d-6474641c5fb2",
   "metadata": {},
   "outputs": [],
   "source": []
  }
 ],
 "metadata": {
  "kernelspec": {
   "display_name": "Python 3 (ipykernel)",
   "language": "python",
   "name": "python3"
  },
  "language_info": {
   "codemirror_mode": {
    "name": "ipython",
    "version": 3
   },
   "file_extension": ".py",
   "mimetype": "text/x-python",
   "name": "python",
   "nbconvert_exporter": "python",
   "pygments_lexer": "ipython3",
   "version": "3.10.6"
  }
 },
 "nbformat": 4,
 "nbformat_minor": 5
}
