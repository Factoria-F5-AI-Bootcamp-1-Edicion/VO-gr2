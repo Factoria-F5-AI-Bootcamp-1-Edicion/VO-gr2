{
 "cells": [
  {
   "cell_type": "code",
   "execution_count": 1,
   "id": "e9325c7a-6c3c-4c50-9036-4a63e29a61a4",
   "metadata": {},
   "outputs": [
    {
     "name": "stdout",
     "output_type": "stream",
     "text": [
      "Requirement already satisfied: dlib in /home/javingles/.local/lib/python3.10/site-packages (19.24.0)\n"
     ]
    }
   ],
   "source": [
    "# !pip install cv2\n",
    "!pip install dlib\n",
    "import os\n",
    "import pickle\n",
    "import numpy as np\n",
    "import cv2\n",
    "import face_recognition\n",
    "import cvzone\n",
    "import firebase_admin\n",
    "from firebase_admin import credentials\n",
    "from firebase_admin import db\n",
    "from firebase_admin import storage\n",
    "import numpy as np\n",
    "from datetime import datetime"
   ]
  },
  {
   "cell_type": "code",
   "execution_count": 2,
   "id": "ad09447d-2b4c-4914-9318-c90026771bf6",
   "metadata": {},
   "outputs": [
    {
     "name": "stderr",
     "output_type": "stream",
     "text": [
      "[ WARN:0@1.126] global cap_v4l.cpp:982 open VIDEOIO(V4L2:/dev/video1): can't open camera by index\n",
      "[ERROR:0@1.126] global obsensor_uvc_stream_channel.cpp:156 getStreamChannelGroup Camera index out of range\n"
     ]
    },
    {
     "name": "stdout",
     "output_type": "stream",
     "text": [
      "Loading Encode File ...\n",
      "Encode File Loaded\n"
     ]
    },
    {
     "ename": "error",
     "evalue": "OpenCV(4.7.0) /io/opencv/modules/imgproc/src/resize.cpp:4062: error: (-215:Assertion failed) !ssize.empty() in function 'resize'\n",
     "output_type": "error",
     "traceback": [
      "\u001b[0;31m---------------------------------------------------------------------------\u001b[0m",
      "\u001b[0;31merror\u001b[0m                                     Traceback (most recent call last)",
      "Input \u001b[0;32mIn [2]\u001b[0m, in \u001b[0;36m<cell line: 33>\u001b[0;34m()\u001b[0m\n\u001b[1;32m     34\u001b[0m     sucess, img \u001b[38;5;241m=\u001b[39m cap\u001b[38;5;241m.\u001b[39mread()\n\u001b[1;32m     36\u001b[0m \u001b[38;5;66;03m#REDUCTION IMAGES SIZE TO QUICKLY PROCESS\u001b[39;00m\n\u001b[0;32m---> 37\u001b[0m     imgS \u001b[38;5;241m=\u001b[39m \u001b[43mcv2\u001b[49m\u001b[38;5;241;43m.\u001b[39;49m\u001b[43mresize\u001b[49m\u001b[43m(\u001b[49m\u001b[43mimg\u001b[49m\u001b[43m,\u001b[49m\u001b[43m \u001b[49m\u001b[43m(\u001b[49m\u001b[38;5;241;43m0\u001b[39;49m\u001b[43m,\u001b[49m\u001b[43m \u001b[49m\u001b[38;5;241;43m0\u001b[39;49m\u001b[43m)\u001b[49m\u001b[43m,\u001b[49m\u001b[43m \u001b[49m\u001b[38;5;28;43;01mNone\u001b[39;49;00m\u001b[43m,\u001b[49m\u001b[43m \u001b[49m\u001b[38;5;241;43m0.25\u001b[39;49m\u001b[43m,\u001b[49m\u001b[43m \u001b[49m\u001b[38;5;241;43m0.25\u001b[39;49m\u001b[43m)\u001b[49m\n\u001b[1;32m     38\u001b[0m     imgS \u001b[38;5;241m=\u001b[39m cv2\u001b[38;5;241m.\u001b[39mcvtColor(imgS, cv2\u001b[38;5;241m.\u001b[39mCOLOR_BGR2RGB)\n\u001b[1;32m     40\u001b[0m     faceCurFrame \u001b[38;5;241m=\u001b[39m face_recognition\u001b[38;5;241m.\u001b[39mface_locations(imgS)\n",
      "\u001b[0;31merror\u001b[0m: OpenCV(4.7.0) /io/opencv/modules/imgproc/src/resize.cpp:4062: error: (-215:Assertion failed) !ssize.empty() in function 'resize'\n"
     ]
    }
   ],
   "source": [
    "#ACTIVACIÓN DE LA CÁMARA PARA LAS CAPTURAS Y SU RESOLUCIÓN, CON 0 LA ABRIMOS, CON 1 LA CERRAMOS\n",
    "#----------------------------------------------------------\n",
    "#----------------------------------------------------------\n",
    "cap = cv2.VideoCapture(0)\n",
    "cap.set(3, 640)\n",
    "cap.set(4, 480)\n",
    "\n",
    "#DECLARAMOS NUESTRA IMAGEN DE FONDO\n",
    "#----------------------------------------------------------\n",
    "imgBackground = cv2.imread('Resources/background.png')\n",
    "\n",
    "\n",
    "#IMPORTANDO EL MODO DE IMÁGENES EN UNA LISTA\n",
    "#----------------------------------------------------------\n",
    "folderModePath = 'Resources/Modes'\n",
    "modePathList = os.listdir(folderModePath)\n",
    "imgModeList = []\n",
    "for path in modePathList:\n",
    "    imgModeList.append(cv2.imread(os.path.join(folderModePath,path)))\n",
    "\n",
    "#print(len(imgModelList))\n",
    "\n",
    "#LOAD THE ENCODING FILE\n",
    "print(\"Loading Encode File ...\")\n",
    "file = open(\"EncodeFile.p\",\"rb\")\n",
    "encodeListKnownWithIds = pickle.load(file)\n",
    "file.close()\n",
    "encodeListKnown, studentIds = encodeListKnownWithIds\n",
    "# print(studentIds)\n",
    "print(\"Encode File Loaded\")\n",
    "\n",
    "    \n",
    "while True:\n",
    "    sucess, img = cap.read()\n",
    "\n",
    "#REDUCTION IMAGES SIZE TO QUICKLY PROCESS\n",
    "    imgS = cv2.resize(img, (0, 0), None, 0.25, 0.25)\n",
    "    imgS = cv2.cvtColor(imgS, cv2.COLOR_BGR2RGB)\n",
    "\n",
    "    faceCurFrame = face_recognition.face_locations(imgS)\n",
    "    encodeCurFrame = face_recognition.face_encodings(imgS, faceCurFrame)\n",
    "\n",
    "#SUPERPONEMOS EL FONDO CON SUS MEDIDAS \n",
    "#----------------------------------------------------------\n",
    "    imgBackground[162:162 + 480, 55:55 + 640] = img \n",
    "#----------------------------------------------------------\n",
    "#Y AÑADIMOS TAMBIÉN LAS OTRAS IMÁGENES QUE INSERTAREMOS PERO CON OTRAS MEDIDAS  \n",
    "    imgBackground[44:44 + 633, 808:808 + 414] = imgModeList[3]\n",
    "    \n",
    "#COMPARE IMAGES ONE TO ONE. \n",
    "    for encodeFace, faceLoc in zip (encodeCurFrame, faceCurFrame):\n",
    "        matches = face_recognition.compare_faces(encodeListKnown, encodeFace)\n",
    "        faceDis = face_recognition.face_distance(encodeListKnown, encodeFace)\n",
    "        print(\"matches\", matches)\n",
    "        print(\"faceDis\", faceDis)\n",
    "        \n",
    "        matchIndex = np.argmin(faceDis)\n",
    "        # print(\"Match Index\", matchIndex)\n",
    "        \n",
    "        if matches[matchIndex]:\n",
    "            # print(\"Known Face Detected\")\n",
    "            # print(studentIds[matchIndex])\n",
    "            \n",
    "#CREAMOS EL CUADRADO DELIMITADOR PARA CAPTURAR\n",
    "            y1, x2, y2, x1 = faceLoc\n",
    "            y1, x2, y2, x1 = y1 * 4, x2 *4, y2 *4, x1* 4\n",
    "            bbox = 55 + x1, 162 + y1, x2 - x1, y2 - y1\n",
    "            cvzone.cornerRect(imgBackground,bbox,rt=0)\n",
    "        \n",
    "#SALE LA CÁMARA Y NUESTRO PHOTOCALL DE FONDO\n",
    "#----------------------------------------------------------\n",
    "    # cv2.imshow(\"Webcam\", img)\n",
    "    cv2.imshow(\"Face Attendance\", imgBackground)\n",
    "    cv2.waitKey(1)"
   ]
  },
  {
   "cell_type": "code",
   "execution_count": null,
   "id": "be40a18c-8ee1-4540-851d-6474641c5fb2",
   "metadata": {},
   "outputs": [],
   "source": []
  }
 ],
 "metadata": {
  "kernelspec": {
   "display_name": "Python 3 (ipykernel)",
   "language": "python",
   "name": "python3"
  },
  "language_info": {
   "codemirror_mode": {
    "name": "ipython",
    "version": 3
   },
   "file_extension": ".py",
   "mimetype": "text/x-python",
   "name": "python",
   "nbconvert_exporter": "python",
   "pygments_lexer": "ipython3",
   "version": "3.10.6"
  }
 },
 "nbformat": 4,
 "nbformat_minor": 5
}
