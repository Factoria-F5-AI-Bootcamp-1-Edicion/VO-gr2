{
 "cells": [
  {
   "cell_type": "code",
   "execution_count": 1,
<<<<<<< HEAD
   "id": "b2ad49e5-21e7-4663-a81f-81c5fc564f5a",
   "metadata": {},
   "outputs": [
    {
     "name": "stdout",
     "output_type": "stream",
     "text": [
      "Requirement already satisfied: cv2-plt-imshow in c:\\users\\hensu\\miniconda3\\envs\\facerecog\\lib\\site-packages (0.0.1)\n",
      "Requirement already satisfied: opencv-python>=4.2.0.34 in c:\\users\\hensu\\miniconda3\\envs\\facerecog\\lib\\site-packages (from cv2-plt-imshow) (4.7.0.68)\n",
      "Requirement already satisfied: matplotlib>=3.2.2 in c:\\users\\hensu\\miniconda3\\envs\\facerecog\\lib\\site-packages (from cv2-plt-imshow) (3.6.3)\n",
      "Requirement already satisfied: contourpy>=1.0.1 in c:\\users\\hensu\\miniconda3\\envs\\facerecog\\lib\\site-packages (from matplotlib>=3.2.2->cv2-plt-imshow) (1.0.7)\n",
      "Requirement already satisfied: packaging>=20.0 in c:\\users\\hensu\\miniconda3\\envs\\facerecog\\lib\\site-packages (from matplotlib>=3.2.2->cv2-plt-imshow) (22.0)\n",
      "Requirement already satisfied: pyparsing>=2.2.1 in c:\\users\\hensu\\miniconda3\\envs\\facerecog\\lib\\site-packages (from matplotlib>=3.2.2->cv2-plt-imshow) (3.0.9)\n",
      "Requirement already satisfied: kiwisolver>=1.0.1 in c:\\users\\hensu\\miniconda3\\envs\\facerecog\\lib\\site-packages (from matplotlib>=3.2.2->cv2-plt-imshow) (1.4.4)\n",
      "Requirement already satisfied: python-dateutil>=2.7 in c:\\users\\hensu\\miniconda3\\envs\\facerecog\\lib\\site-packages (from matplotlib>=3.2.2->cv2-plt-imshow) (2.8.2)\n",
      "Requirement already satisfied: fonttools>=4.22.0 in c:\\users\\hensu\\miniconda3\\envs\\facerecog\\lib\\site-packages (from matplotlib>=3.2.2->cv2-plt-imshow) (4.38.0)\n",
      "Requirement already satisfied: cycler>=0.10 in c:\\users\\hensu\\miniconda3\\envs\\facerecog\\lib\\site-packages (from matplotlib>=3.2.2->cv2-plt-imshow) (0.11.0)\n",
      "Requirement already satisfied: pillow>=6.2.0 in c:\\users\\hensu\\miniconda3\\envs\\facerecog\\lib\\site-packages (from matplotlib>=3.2.2->cv2-plt-imshow) (9.4.0)\n",
      "Requirement already satisfied: numpy>=1.19 in c:\\users\\hensu\\miniconda3\\envs\\facerecog\\lib\\site-packages (from matplotlib>=3.2.2->cv2-plt-imshow) (1.23.5)\n",
      "Requirement already satisfied: six>=1.5 in c:\\users\\hensu\\miniconda3\\envs\\facerecog\\lib\\site-packages (from python-dateutil>=2.7->matplotlib>=3.2.2->cv2-plt-imshow) (1.16.0)\n",
      "Note: you may need to restart the kernel to use updated packages.\n"
     ]
    }
   ],
   "source": [
    "pip install cv2-plt-imshow"
   ]
  },
  {
   "cell_type": "code",
   "execution_count": 2,
   "id": "176ff1c7-8752-4b6b-b692-34f828167cfe",
   "metadata": {},
   "outputs": [
    {
     "name": "stdout",
     "output_type": "stream",
     "text": [
      "Requirement already satisfied: firebase_admin in c:\\users\\hensu\\miniconda3\\envs\\facerecog\\lib\\site-packages (6.0.1)\n",
      "Requirement already satisfied: google-cloud-storage>=1.37.1 in c:\\users\\hensu\\miniconda3\\envs\\facerecog\\lib\\site-packages (from firebase_admin) (2.7.0)\n",
      "Requirement already satisfied: cachecontrol>=0.12.6 in c:\\users\\hensu\\miniconda3\\envs\\facerecog\\lib\\site-packages (from firebase_admin) (0.12.11)\n",
      "Requirement already satisfied: pyjwt[crypto]>=2.5.0 in c:\\users\\hensu\\miniconda3\\envs\\facerecog\\lib\\site-packages (from firebase_admin) (2.6.0)\n",
      "Requirement already satisfied: google-api-python-client>=1.7.8 in c:\\users\\hensu\\miniconda3\\envs\\facerecog\\lib\\site-packages (from firebase_admin) (2.74.0)\n",
      "Requirement already satisfied: google-cloud-firestore>=2.1.0 in c:\\users\\hensu\\miniconda3\\envs\\facerecog\\lib\\site-packages (from firebase_admin) (2.9.1)\n",
      "Requirement already satisfied: google-api-core[grpc]<3.0.0dev,>=1.22.1 in c:\\users\\hensu\\miniconda3\\envs\\facerecog\\lib\\site-packages (from firebase_admin) (2.11.0)\n",
      "Requirement already satisfied: requests in c:\\users\\hensu\\miniconda3\\envs\\facerecog\\lib\\site-packages (from cachecontrol>=0.12.6->firebase_admin) (2.28.1)\n",
      "Requirement already satisfied: msgpack>=0.5.2 in c:\\users\\hensu\\miniconda3\\envs\\facerecog\\lib\\site-packages (from cachecontrol>=0.12.6->firebase_admin) (1.0.4)\n",
      "Requirement already satisfied: protobuf!=3.20.0,!=3.20.1,!=4.21.0,!=4.21.1,!=4.21.2,!=4.21.3,!=4.21.4,!=4.21.5,<5.0.0dev,>=3.19.5 in c:\\users\\hensu\\miniconda3\\envs\\facerecog\\lib\\site-packages (from google-api-core[grpc]<3.0.0dev,>=1.22.1->firebase_admin) (4.21.12)\n",
      "Requirement already satisfied: googleapis-common-protos<2.0dev,>=1.56.2 in c:\\users\\hensu\\miniconda3\\envs\\facerecog\\lib\\site-packages (from google-api-core[grpc]<3.0.0dev,>=1.22.1->firebase_admin) (1.58.0)\n",
      "Requirement already satisfied: google-auth<3.0dev,>=2.14.1 in c:\\users\\hensu\\miniconda3\\envs\\facerecog\\lib\\site-packages (from google-api-core[grpc]<3.0.0dev,>=1.22.1->firebase_admin) (2.16.0)\n",
      "Requirement already satisfied: grpcio<2.0dev,>=1.33.2 in c:\\users\\hensu\\miniconda3\\envs\\facerecog\\lib\\site-packages (from google-api-core[grpc]<3.0.0dev,>=1.22.1->firebase_admin) (1.51.1)\n",
      "Requirement already satisfied: grpcio-status<2.0dev,>=1.33.2 in c:\\users\\hensu\\miniconda3\\envs\\facerecog\\lib\\site-packages (from google-api-core[grpc]<3.0.0dev,>=1.22.1->firebase_admin) (1.51.1)\n",
      "Requirement already satisfied: httplib2<1dev,>=0.15.0 in c:\\users\\hensu\\miniconda3\\envs\\facerecog\\lib\\site-packages (from google-api-python-client>=1.7.8->firebase_admin) (0.21.0)\n",
      "Requirement already satisfied: uritemplate<5,>=3.0.1 in c:\\users\\hensu\\miniconda3\\envs\\facerecog\\lib\\site-packages (from google-api-python-client>=1.7.8->firebase_admin) (4.1.1)\n",
      "Requirement already satisfied: google-auth-httplib2>=0.1.0 in c:\\users\\hensu\\miniconda3\\envs\\facerecog\\lib\\site-packages (from google-api-python-client>=1.7.8->firebase_admin) (0.1.0)\n",
      "Requirement already satisfied: google-cloud-core<3.0.0dev,>=1.4.1 in c:\\users\\hensu\\miniconda3\\envs\\facerecog\\lib\\site-packages (from google-cloud-firestore>=2.1.0->firebase_admin) (2.3.2)\n",
      "Requirement already satisfied: proto-plus<2.0.0dev,>=1.22.0 in c:\\users\\hensu\\miniconda3\\envs\\facerecog\\lib\\site-packages (from google-cloud-firestore>=2.1.0->firebase_admin) (1.22.2)\n",
      "Requirement already satisfied: google-resumable-media>=2.3.2 in c:\\users\\hensu\\miniconda3\\envs\\facerecog\\lib\\site-packages (from google-cloud-storage>=1.37.1->firebase_admin) (2.4.1)\n",
      "Requirement already satisfied: cryptography>=3.4.0 in c:\\users\\hensu\\miniconda3\\envs\\facerecog\\lib\\site-packages (from pyjwt[crypto]>=2.5.0->firebase_admin) (38.0.4)\n",
      "Requirement already satisfied: cffi>=1.12 in c:\\users\\hensu\\miniconda3\\envs\\facerecog\\lib\\site-packages (from cryptography>=3.4.0->pyjwt[crypto]>=2.5.0->firebase_admin) (1.15.1)\n",
      "Requirement already satisfied: cachetools<6.0,>=2.0.0 in c:\\users\\hensu\\miniconda3\\envs\\facerecog\\lib\\site-packages (from google-auth<3.0dev,>=2.14.1->google-api-core[grpc]<3.0.0dev,>=1.22.1->firebase_admin) (5.3.0)\n",
      "Requirement already satisfied: six>=1.9.0 in c:\\users\\hensu\\miniconda3\\envs\\facerecog\\lib\\site-packages (from google-auth<3.0dev,>=2.14.1->google-api-core[grpc]<3.0.0dev,>=1.22.1->firebase_admin) (1.16.0)\n",
      "Requirement already satisfied: pyasn1-modules>=0.2.1 in c:\\users\\hensu\\miniconda3\\envs\\facerecog\\lib\\site-packages (from google-auth<3.0dev,>=2.14.1->google-api-core[grpc]<3.0.0dev,>=1.22.1->firebase_admin) (0.2.8)\n",
      "Requirement already satisfied: rsa<5,>=3.1.4 in c:\\users\\hensu\\miniconda3\\envs\\facerecog\\lib\\site-packages (from google-auth<3.0dev,>=2.14.1->google-api-core[grpc]<3.0.0dev,>=1.22.1->firebase_admin) (4.9)\n",
      "Requirement already satisfied: google-crc32c<2.0dev,>=1.0 in c:\\users\\hensu\\miniconda3\\envs\\facerecog\\lib\\site-packages (from google-resumable-media>=2.3.2->google-cloud-storage>=1.37.1->firebase_admin) (1.5.0)\n",
      "Requirement already satisfied: pyparsing!=3.0.0,!=3.0.1,!=3.0.2,!=3.0.3,<4,>=2.4.2 in c:\\users\\hensu\\miniconda3\\envs\\facerecog\\lib\\site-packages (from httplib2<1dev,>=0.15.0->google-api-python-client>=1.7.8->firebase_admin) (3.0.9)\n",
      "Requirement already satisfied: charset-normalizer<3,>=2 in c:\\users\\hensu\\miniconda3\\envs\\facerecog\\lib\\site-packages (from requests->cachecontrol>=0.12.6->firebase_admin) (2.0.4)\n",
      "Requirement already satisfied: certifi>=2017.4.17 in c:\\users\\hensu\\miniconda3\\envs\\facerecog\\lib\\site-packages (from requests->cachecontrol>=0.12.6->firebase_admin) (2022.12.7)\n",
      "Requirement already satisfied: urllib3<1.27,>=1.21.1 in c:\\users\\hensu\\miniconda3\\envs\\facerecog\\lib\\site-packages (from requests->cachecontrol>=0.12.6->firebase_admin) (1.26.14)\n",
      "Requirement already satisfied: idna<4,>=2.5 in c:\\users\\hensu\\miniconda3\\envs\\facerecog\\lib\\site-packages (from requests->cachecontrol>=0.12.6->firebase_admin) (3.4)\n",
      "Requirement already satisfied: pycparser in c:\\users\\hensu\\miniconda3\\envs\\facerecog\\lib\\site-packages (from cffi>=1.12->cryptography>=3.4.0->pyjwt[crypto]>=2.5.0->firebase_admin) (2.21)\n",
      "Requirement already satisfied: pyasn1<0.5.0,>=0.4.6 in c:\\users\\hensu\\miniconda3\\envs\\facerecog\\lib\\site-packages (from pyasn1-modules>=0.2.1->google-auth<3.0dev,>=2.14.1->google-api-core[grpc]<3.0.0dev,>=1.22.1->firebase_admin) (0.4.8)\n",
      "Note: you may need to restart the kernel to use updated packages.\n"
     ]
    }
   ],
   "source": [
    "pip install firebase_admin"
   ]
  },
  {
   "cell_type": "code",
   "execution_count": 3,
   "id": "b00cb094-e9f0-44dd-af75-87fa5dade74b",
   "metadata": {},
   "outputs": [
    {
     "name": "stdout",
     "output_type": "stream",
     "text": [
      "Requirement already satisfied: cvzone in c:\\users\\hensu\\miniconda3\\envs\\facerecog\\lib\\site-packages (1.5.6)\n",
      "Requirement already satisfied: numpy in c:\\users\\hensu\\miniconda3\\envs\\facerecog\\lib\\site-packages (from cvzone) (1.23.5)\n",
      "Requirement already satisfied: opencv-python in c:\\users\\hensu\\miniconda3\\envs\\facerecog\\lib\\site-packages (from cvzone) (4.7.0.68)\n",
      "Note: you may need to restart the kernel to use updated packages.\n"
     ]
    }
   ],
   "source": [
    "pip install cvzone"
   ]
  },
  {
   "cell_type": "code",
   "execution_count": 4,
   "id": "7d98cd79-a9a0-4a0f-9803-871e8e542226",
   "metadata": {},
   "outputs": [
    {
     "name": "stdout",
     "output_type": "stream",
     "text": [
      "Requirement already satisfied: face_recognition in c:\\users\\hensu\\miniconda3\\envs\\facerecog\\lib\\site-packages (1.3.0)\n",
      "Requirement already satisfied: numpy in c:\\users\\hensu\\miniconda3\\envs\\facerecog\\lib\\site-packages (from face_recognition) (1.23.5)\n",
      "Requirement already satisfied: Click>=6.0 in c:\\users\\hensu\\miniconda3\\envs\\facerecog\\lib\\site-packages (from face_recognition) (8.1.3)\n",
      "Requirement already satisfied: Pillow in c:\\users\\hensu\\miniconda3\\envs\\facerecog\\lib\\site-packages (from face_recognition) (9.4.0)\n",
      "Requirement already satisfied: dlib>=19.7 in c:\\users\\hensu\\miniconda3\\envs\\facerecog\\lib\\site-packages (from face_recognition) (19.24.0)\n",
      "Requirement already satisfied: face-recognition-models>=0.3.0 in c:\\users\\hensu\\miniconda3\\envs\\facerecog\\lib\\site-packages (from face_recognition) (0.3.0)\n",
      "Requirement already satisfied: colorama in c:\\users\\hensu\\miniconda3\\envs\\facerecog\\lib\\site-packages (from Click>=6.0->face_recognition) (0.4.6)\n",
      "Note: you may need to restart the kernel to use updated packages.\n"
     ]
    }
   ],
   "source": [
    "pip install face_recognition"
   ]
  },
  {
   "cell_type": "code",
   "execution_count": 5,
=======
>>>>>>> a1c4d97c92020939a30ceb61277e9e1e4ed841fd
   "id": "e9325c7a-6c3c-4c50-9036-4a63e29a61a4",
   "metadata": {},
   "outputs": [
    {
     "name": "stdout",
     "output_type": "stream",
     "text": [
      "Requirement already satisfied: dlib in c:\\users\\hensu\\miniconda3\\envs\\facerecog\\lib\\site-packages (19.24.0)\n"
     ]
    }
   ],
   "source": [
    "# !pip install cv2\n",
    "!pip install dlib\n",
    "import os\n",
    "import pickle\n",
    "import numpy as np\n",
    "import cv2\n",
    "import face_recognition\n",
    "import cvzone\n",
    "import firebase_admin\n",
    "from firebase_admin import credentials\n",
    "from firebase_admin import db\n",
    "from firebase_admin import storage\n",
    "import numpy as np\n",
    "from datetime import datetime"
   ]
  },
  {
   "cell_type": "code",
   "execution_count": 2,
   "id": "4c89da5f-aa82-4528-98df-d0d8942b1a1d",
   "metadata": {},
   "outputs": [
    {
<<<<<<< HEAD
     "ename": "error",
     "evalue": "OpenCV(4.7.0) D:\\a\\opencv-python\\opencv-python\\opencv\\modules\\highgui\\src\\window.cpp:971: error: (-215:Assertion failed) size.width>0 && size.height>0 in function 'cv::imshow'\n",
     "output_type": "error",
     "traceback": [
      "\u001b[1;31m---------------------------------------------------------------------------\u001b[0m",
      "\u001b[1;31merror\u001b[0m                                     Traceback (most recent call last)",
      "Cell \u001b[1;32mIn[6], line 10\u001b[0m\n\u001b[0;32m      7\u001b[0m \u001b[38;5;28;01mwhile\u001b[39;00m \u001b[38;5;28;01mTrue\u001b[39;00m:\n\u001b[0;32m      8\u001b[0m   sucess, img \u001b[38;5;241m=\u001b[39m cap\u001b[38;5;241m.\u001b[39mread()\n\u001b[1;32m---> 10\u001b[0m   \u001b[43mcv2\u001b[49m\u001b[38;5;241;43m.\u001b[39;49m\u001b[43mimshow\u001b[49m\u001b[43m(\u001b[49m\u001b[38;5;124;43m\"\u001b[39;49m\u001b[38;5;124;43mWebcam\u001b[39;49m\u001b[38;5;124;43m\"\u001b[39;49m\u001b[43m,\u001b[49m\u001b[43m \u001b[49m\u001b[43mimg\u001b[49m\u001b[43m)\u001b[49m\n\u001b[0;32m     11\u001b[0m   cv2\u001b[38;5;241m.\u001b[39mimshow(\u001b[38;5;124m\"\u001b[39m\u001b[38;5;124mFace Attendance\u001b[39m\u001b[38;5;124m\"\u001b[39m, imgBackground)\n\u001b[0;32m     12\u001b[0m   cv2\u001b[38;5;241m.\u001b[39mwaitKey(\u001b[38;5;241m1\u001b[39m)\n",
      "\u001b[1;31merror\u001b[0m: OpenCV(4.7.0) D:\\a\\opencv-python\\opencv-python\\opencv\\modules\\highgui\\src\\window.cpp:971: error: (-215:Assertion failed) size.width>0 && size.height>0 in function 'cv::imshow'\n"
=======
     "name": "stderr",
     "output_type": "stream",
     "text": [
      "[ WARN:0@1.207] global cap_v4l.cpp:982 open VIDEOIO(V4L2:/dev/video1): can't open camera by index\n",
      "[ERROR:0@1.207] global obsensor_uvc_stream_channel.cpp:156 getStreamChannelGroup Camera index out of range\n"
     ]
    },
    {
     "ename": "TypeError",
     "evalue": "int() argument must be a string, a bytes-like object or a real number, not 'NoneType'",
     "output_type": "error",
     "traceback": [
      "\u001b[0;31m---------------------------------------------------------------------------\u001b[0m",
      "\u001b[0;31mTypeError\u001b[0m                                 Traceback (most recent call last)",
      "Input \u001b[0;32mIn [2]\u001b[0m, in \u001b[0;36m<cell line: 25>\u001b[0;34m()\u001b[0m\n\u001b[1;32m     26\u001b[0m   sucess, img \u001b[38;5;241m=\u001b[39m cap\u001b[38;5;241m.\u001b[39mread()\n\u001b[1;32m     28\u001b[0m \u001b[38;5;66;03m#SUPERPONEMOS EL FONDO CON SUS MEDIDAS \u001b[39;00m\n\u001b[1;32m     29\u001b[0m \u001b[38;5;66;03m#----------------------------------------------------------\u001b[39;00m\n\u001b[0;32m---> 30\u001b[0m   imgBackground[\u001b[38;5;241m162\u001b[39m:\u001b[38;5;241m162\u001b[39m \u001b[38;5;241m+\u001b[39m \u001b[38;5;241m480\u001b[39m, \u001b[38;5;241m55\u001b[39m:\u001b[38;5;241m55\u001b[39m \u001b[38;5;241m+\u001b[39m \u001b[38;5;241m640\u001b[39m] \u001b[38;5;241m=\u001b[39m img \n\u001b[1;32m     31\u001b[0m \u001b[38;5;66;03m#----------------------------------------------------------\u001b[39;00m\n\u001b[1;32m     32\u001b[0m \u001b[38;5;66;03m#Y AÑADIMOS TAMBIÉN LAS OTRAS IMÁGENES QUE INSERTAREMOS PERO CON OTRAS MEDIDAS  \u001b[39;00m\n\u001b[1;32m     33\u001b[0m   imgBackground[\u001b[38;5;241m44\u001b[39m:\u001b[38;5;241m44\u001b[39m \u001b[38;5;241m+\u001b[39m \u001b[38;5;241m633\u001b[39m, \u001b[38;5;241m808\u001b[39m:\u001b[38;5;241m808\u001b[39m \u001b[38;5;241m+\u001b[39m \u001b[38;5;241m414\u001b[39m] \u001b[38;5;241m=\u001b[39m imgModeList[\u001b[38;5;241m0\u001b[39m]\n",
      "\u001b[0;31mTypeError\u001b[0m: int() argument must be a string, a bytes-like object or a real number, not 'NoneType'"
>>>>>>> a1c4d97c92020939a30ceb61277e9e1e4ed841fd
     ]
    }
   ],
   "source": [
    "#ACTIVACIÓN DE LA CÁMARA PARA LAS CAPTURAS Y SU RESOLUCIÓN, CON 0 LA ABRIMOS, CON 1 LA CERRAMOS\n",
    "#----------------------------------------------------------\n",
    "#----------------------------------------------------------\n",
    "cap = cv2.VideoCapture(1)\n",
    "cap.set(3, 640)\n",
    "cap.set(4, 480)\n",
    "\n",
    "#DECLARAMOS NUESTRA IMAGEN DE FONDO\n",
    "#----------------------------------------------------------\n",
    "imgBackground = cv2.imread('Resources/background.png')\n",
    "\n",
<<<<<<< HEAD
    "# importing the mode images into a list\n",
    "folderModePath = 'Resources/Modes'\n",
    "modePath = os.listdir(folderModePath)\n",
    "imgModeList = []\n",
    "for path in folderModePath:\n",
    "    imgModeList.append(cv2.imread(os.path.join(folderModePath, path)))\n",
    "\n",
    "#print(len(imgModeList))\n",
    "\n",
    "while True:\n",
    "  sucess, img = cap.read()\n",
    "\n",
    "  imgBackground[162:162 + 488, 55:55+648] = img\n",
    "  imgBackground[44:44 + 633, 808:8008+414] = imgModeList[3]\n",
    "\n",
    "\n",
    "  #cv2.imshow(\"Webcam\", img)\n",
=======
    "\n",
    "#IMPORTANDO EL MODO DE IMÁGENES EN UNA LISTA\n",
    "#----------------------------------------------------------\n",
    "folderModePath = 'Resources/Modes'\n",
    "modePathList = os.listdir(folderModePath)\n",
    "imgModeList = []\n",
    "for path in modePathList:\n",
    "    imgModeList.append(cv2.imread(os.path.join(folderModePath,path)))\n",
    "\n",
    "#print(len(imgModelList))\n",
    "\n",
    "\n",
    "    \n",
    "while True:\n",
    "  sucess, img = cap.read()\n",
    "\n",
    "#SUPERPONEMOS EL FONDO CON SUS MEDIDAS \n",
    "#----------------------------------------------------------\n",
    "  imgBackground[162:162 + 480, 55:55 + 640] = img \n",
    "#----------------------------------------------------------\n",
    "#Y AÑADIMOS TAMBIÉN LAS OTRAS IMÁGENES QUE INSERTAREMOS PERO CON OTRAS MEDIDAS  \n",
    "  imgBackground[44:44 + 633, 808:808 + 414] = imgModeList[0]\n",
    "\n",
    "#SALE LA CÁMARA Y NUESTRO PHOTOCALL DE FONDO\n",
    "#----------------------------------------------------------\n",
    "  cv2.imshow(\"Webcam\", img)\n",
>>>>>>> a1c4d97c92020939a30ceb61277e9e1e4ed841fd
    "  cv2.imshow(\"Face Attendance\", imgBackground)\n",
    "  cv2.waitKey(1)"
   ]
  },
  {
   "cell_type": "code",
   "execution_count": null,
   "id": "ad09447d-2b4c-4914-9318-c90026771bf6",
   "metadata": {},
   "outputs": [],
   "source": []
  },
  {
   "cell_type": "code",
   "execution_count": null,
   "id": "be40a18c-8ee1-4540-851d-6474641c5fb2",
   "metadata": {},
   "outputs": [],
   "source": []
  }
 ],
 "metadata": {
  "kernelspec": {
   "display_name": "Python 3 (ipykernel)",
   "language": "python",
   "name": "python3"
  },
  "language_info": {
   "codemirror_mode": {
    "name": "ipython",
    "version": 3
   },
   "file_extension": ".py",
   "mimetype": "text/x-python",
   "name": "python",
   "nbconvert_exporter": "python",
   "pygments_lexer": "ipython3",
   "version": "3.9.12"
  }
 },
 "nbformat": 4,
 "nbformat_minor": 5
}
