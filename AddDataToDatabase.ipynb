{
 "cells": [
  {
   "cell_type": "code",
   "execution_count": 1,
   "id": "52a653dd-ac8f-40a5-9f1a-2416be177af7",
   "metadata": {},
   "outputs": [],
   "source": [
    "import firebase_admin\n",
    "from firebase_admin import credentials\n",
    "from firebase_admin import db\n",
    "\n",
    "#ACTIVACIÓN DE LOS CREDENCIALES\n",
    "cred = credentials.Certificate(\"serviceAccountKey.json\")\n",
    "\n",
    "#UBICACIÓN DE LA DATABASE\n",
    "firebase_admin.initialize_app(cred,{\n",
    "    'databaseURL':\"https://faceattendacerealtime-bbc1f-default-rtdb.firebaseio.com/\"\n",
    "})\n",
    "\n",
    "#CREAMOS UNA REFERENCIA DE LA BBDD\n",
    "ref = db.reference('Students')\n",
    "\n",
    "#AGREGAMOS DATOS DE LOS TRABAJADORES A NUESTRA BBDD\n",
    "data = {\n",
    "    \"312654\":\n",
    "        {\n",
    "            \"name\": \"Javier\",\n",
    "             \"major\": \"Data scientist\",\n",
    "             \"starting_year\":2017,\n",
    "             \"total_attendance\":6,\n",
    "             \"standing\": \"G\",\n",
    "             \"year\":4,\n",
    "             \"last_attendance_time\": \"2023-01-15 00:54:34\"\n",
    "        },\n",
    "    \n",
    "    \"852741\":\n",
    "        {\n",
    "            \"name\": \"Emily\",\n",
    "             \"major\": \"Data Analytics\",\n",
    "             \"starting_year\":2018,\n",
    "             \"total_attendance\":12,\n",
    "             \"standing\": \"G\",\n",
    "             \"year\":2,\n",
    "             \"last_attendance_time\": \"2023-01-15 00:54:34\"\n",
    "        },\n",
    "    \n",
    "    \"963852\":\n",
    "        {\n",
    "            \"name\": \"Henry\",\n",
    "             \"major\": \"Data engeneer\",\n",
    "             \"starting_year\":2020,\n",
    "             \"total_attendance\":5,\n",
    "             \"standing\": \"G\",\n",
    "             \"year\":3,\n",
    "             \"last_attendance_time\": \"2023-01-15 00:54:34\"\n",
    "        },\n",
    "      \n",
    "}\n",
    "\n",
    "for key,value in data.items():\n",
    "    ref.child(key).set(value)\n"
   ]
  },
  {
   "cell_type": "code",
   "execution_count": null,
   "id": "03a52bc2-d548-4ff2-a345-94629ce133dc",
   "metadata": {},
   "outputs": [],
   "source": []
  }
 ],
 "metadata": {
  "kernelspec": {
   "display_name": "Python 3 (ipykernel)",
   "language": "python",
   "name": "python3"
  },
  "language_info": {
   "codemirror_mode": {
    "name": "ipython",
    "version": 3
   },
   "file_extension": ".py",
   "mimetype": "text/x-python",
   "name": "python",
   "nbconvert_exporter": "python",
   "pygments_lexer": "ipython3",
   "version": "3.10.6"
  }
 },
 "nbformat": 4,
 "nbformat_minor": 5
}
