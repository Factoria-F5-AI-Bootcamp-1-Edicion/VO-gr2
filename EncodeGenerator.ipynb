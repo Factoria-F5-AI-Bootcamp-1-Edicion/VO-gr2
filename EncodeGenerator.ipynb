{
 "cells": [
  {
   "cell_type": "code",
   "execution_count": 1,
   "id": "cc793b37-fbd2-472f-a39b-20fd33f4628f",
   "metadata": {},
   "outputs": [],
   "source": [
    "import cv2\n",
    "import face_recognition\n",
    "import pickle\n",
    "import os\n",
    "import firebase_admin\n",
    "from firebase_admin import credentials\n",
    "from firebase_admin import db\n",
    "from firebase_admin import storage"
   ]
  },
  {
   "cell_type": "code",
   "execution_count": 2,
   "id": "6b273490-61c5-4243-bef9-4c69d1021039",
   "metadata": {},
   "outputs": [
    {
     "name": "stdout",
     "output_type": "stream",
     "text": [
      "['321654.png', '852741.png', '963852.png']\n",
      "['321654', '852741', '963852']\n"
     ]
    }
   ],
   "source": [
    "#UBICACIÓN DE LA DATABASE\n",
    "cred = credentials.Certificate(\"serviceAccountKey.json\")\n",
    "firebase_admin.initialize_app(cred, {\n",
    "    'databaseURL':\"https://faceattendacerealtime-bbc1f-default-rtdb.firebaseio.com/\",\n",
    "    'storageBucket':\"faceattendacerealtime-bbc1f.appspot.com\"\n",
    "})\n",
    "\n",
    "# importing students images to a list\n",
    "folderPath = 'Images'\n",
    "pathList = os.listdir(folderPath)\n",
    "print(pathList)\n",
    "imgList = []\n",
    "studentIds = []\n",
    "for path in pathList:\n",
    "    imgList.append(cv2.imread(os.path.join(folderPath, path)))\n",
    "    studentIds.append(os.path.splitext(path)[0])\n",
    "    \n",
    "    fileName = f'{folderPath}/{path}'\n",
    "    bucket = storage.bucket()\n",
    "    blob = bucket.blob(fileName)\n",
    "    blob.upload_from_filename(fileName)\n",
    "    \n",
    "    \n",
    "    \n",
    "    # print(path)\n",
    "    # print(os.path.splitext(path)[0])\n",
    "print(studentIds)"
   ]
  },
  {
   "cell_type": "code",
   "execution_count": 3,
   "id": "ae20367c-ceb7-4882-ad90-e7f93ecf5f7f",
   "metadata": {
    "tags": []
   },
   "outputs": [
    {
     "name": "stdout",
     "output_type": "stream",
     "text": [
      "Enconding Started....\n",
      "Enconding Complete\n",
      "File Saved\n"
     ]
    }
   ],
   "source": [
    "#CODIFING IMAGES\n",
    "def findEncodings(imagesList):\n",
    "    encodeList = []\n",
    "    \n",
    "    for img in imagesList:\n",
    "#CHANGING COLOR MODE TO RGB\n",
    "        img = cv2.cvtColor(img, cv2.COLOR_BGR2RGB)\n",
    "        encode = face_recognition.face_encodings(img)[0]\n",
    "        encodeList.append(encode)\n",
    "        \n",
    "    return encodeList\n",
    "\n",
    "#PRINTING STATE MOMENT\n",
    "print('Enconding Started....')\n",
    "encodeListKnown = findEncodings(imgList)\n",
    "encodeListKnownWithIds = [encodeListKnown, studentIds]\n",
    "print('Enconding Complete')\n",
    "\n",
    "file = open(\"EncodeFile.p\",\"wb\")\n",
    "pickle.dump(encodeListKnownWithIds, file)\n",
    "file.close()\n",
    "print(\"File Saved\")"
   ]
  },
  {
   "cell_type": "code",
   "execution_count": null,
   "id": "9728920b-72ac-4cc1-a81c-760ea76438de",
   "metadata": {},
   "outputs": [],
   "source": []
  }
 ],
 "metadata": {
  "kernelspec": {
   "display_name": "Python 3 (ipykernel)",
   "language": "python",
   "name": "python3"
  },
  "language_info": {
   "codemirror_mode": {
    "name": "ipython",
    "version": 3
   },
   "file_extension": ".py",
   "mimetype": "text/x-python",
   "name": "python",
   "nbconvert_exporter": "python",
   "pygments_lexer": "ipython3",
   "version": "3.10.6"
  }
 },
 "nbformat": 4,
 "nbformat_minor": 5
}
