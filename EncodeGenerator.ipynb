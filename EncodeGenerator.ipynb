{
 "cells": [
  {
   "cell_type": "code",
   "execution_count": null,
   "id": "cc793b37-fbd2-472f-a39b-20fd33f4628f",
   "metadata": {},
   "outputs": [],
   "source": [
    "import cv2\n",
    "import face_recognition\n",
    "import pickle\n",
    "import os"
   ]
  },
  {
   "cell_type": "code",
   "execution_count": null,
   "id": "6b273490-61c5-4243-bef9-4c69d1021039",
   "metadata": {},
   "outputs": [],
   "source": [
    "# importing students imagesk\n",
    "folderPath = 'Images'\n",
    "pathList = os.listdir(folderModePath)\n",
    "print(pathList)\n",
    "imgList = []\n",
    "studentIds = []\n",
    "for path in pathList:\n",
    "    imgList.append(cv2.imread(os.path.join(folderPath, path)))\n",
    "    studentIds.append(os.path.splitext(path)[0])\n",
    "   # print(path)\n",
    "    #print(os.path.splitext(path)[0])\n",
    "print(studentIds)"
   ]
  },
  {
   "cell_type": "code",
   "execution_count": null,
   "id": "ae20367c-ceb7-4882-ad90-e7f93ecf5f7f",
   "metadata": {},
   "outputs": [],
   "source": [
    "def findEncodings(imagesList):\n",
    "    encodeList = []\n",
    "    for img in imagesList:\n",
    "        img = cv2.cvtColor(img, cv2.COLOR_BGR2RGB)\n",
    "        encode = face_recognition.face_encodings(img)[0]\n",
    "        encodeList.append(encode)\n",
    "        \n",
    "    return encodeList\n",
    "print('Enconding Started....')\n",
    "encodeListKnown = findEncodings(imgList)\n",
    "print(encodeListKnown)\n",
    "print('Enconding Complete')"
   ]
  },
  {
   "cell_type": "code",
   "execution_count": null,
   "id": "9728920b-72ac-4cc1-a81c-760ea76438de",
   "metadata": {},
   "outputs": [],
   "source": []
  }
 ],
 "metadata": {
  "kernelspec": {
   "display_name": "Python 3 (ipykernel)",
   "language": "python",
   "name": "python3"
  },
  "language_info": {
   "codemirror_mode": {
    "name": "ipython",
    "version": 3
   },
   "file_extension": ".py",
   "mimetype": "text/x-python",
   "name": "python",
   "nbconvert_exporter": "python",
   "pygments_lexer": "ipython3",
   "version": "3.9.12"
  }
 },
 "nbformat": 4,
 "nbformat_minor": 5
}
